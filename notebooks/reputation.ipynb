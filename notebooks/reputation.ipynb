{
 "cells": [
  {
   "cell_type": "markdown",
   "source": [
    "# Reputation\n",
    "## Twitter"
   ],
   "metadata": {
    "collapsed": false
   }
  },
  {
   "cell_type": "code",
   "execution_count": 2,
   "outputs": [
    {
     "data": {
      "text/plain": "   cap_universal  followers_count  verified\n0       0.760578          2628300      True\n1       0.808228            47650     False\n2       0.752712            35127     False\n3       0.743721            25007     False\n4       0.792437          1692856      True",
      "text/html": "<div>\n<style scoped>\n    .dataframe tbody tr th:only-of-type {\n        vertical-align: middle;\n    }\n\n    .dataframe tbody tr th {\n        vertical-align: top;\n    }\n\n    .dataframe thead th {\n        text-align: right;\n    }\n</style>\n<table border=\"1\" class=\"dataframe\">\n  <thead>\n    <tr style=\"text-align: right;\">\n      <th></th>\n      <th>cap_universal</th>\n      <th>followers_count</th>\n      <th>verified</th>\n    </tr>\n  </thead>\n  <tbody>\n    <tr>\n      <th>0</th>\n      <td>0.760578</td>\n      <td>2628300</td>\n      <td>True</td>\n    </tr>\n    <tr>\n      <th>1</th>\n      <td>0.808228</td>\n      <td>47650</td>\n      <td>False</td>\n    </tr>\n    <tr>\n      <th>2</th>\n      <td>0.752712</td>\n      <td>35127</td>\n      <td>False</td>\n    </tr>\n    <tr>\n      <th>3</th>\n      <td>0.743721</td>\n      <td>25007</td>\n      <td>False</td>\n    </tr>\n    <tr>\n      <th>4</th>\n      <td>0.792437</td>\n      <td>1692856</td>\n      <td>True</td>\n    </tr>\n  </tbody>\n</table>\n</div>"
     },
     "execution_count": 2,
     "metadata": {},
     "output_type": "execute_result"
    }
   ],
   "source": [
    "import pandas as pd\n",
    "import json\n",
    "\n",
    "with open('../data/twitter.json', 'r') as f:\n",
    "    data = json.load(f)\n",
    "\n",
    "df = pd.json_normalize(data.values())[\n",
    "    ['cap.universal', 'user.user_data.followers_count', 'user.user_data.verified']].rename(\n",
    "    columns={'cap.universal': 'cap_universal', 'user.user_data.followers_count': 'followers_count',\n",
    "             'user.user_data.verified': 'verified'})\n",
    "\n",
    "df.head()"
   ],
   "metadata": {
    "collapsed": false
   }
  },
  {
   "cell_type": "code",
   "execution_count": 19,
   "outputs": [],
   "source": [
    "# accept a value and dict describing bins: { 'bin_name': (min, max) }\n",
    "# return the bin name\n",
    "def get_followers_bin(x, bins):\n",
    "    for bin_value, (m, M) in bins.items():\n",
    "        if m <= x < M:\n",
    "            return bin_value\n",
    "    return 4\n",
    "\n",
    "BIN_NAMES = {\n",
    "    1: 'unrated',\n",
    "    2: 'bronze',\n",
    "    3: 'silver',\n",
    "    4: 'gold'\n",
    "}\n",
    "\n",
    "FOLLOWERS_BINS = {\n",
    "    1: (0, 3000),\n",
    "    2: (3000, 46000),\n",
    "    3: (46000, 1600000)\n",
    "}\n",
    "\n",
    "\n",
    "def reputation(cap, followers, verified):\n",
    "    if cap >= 0.95:\n",
    "        return 'unrated'\n",
    "\n",
    "    followers_bin = get_followers_bin(followers, FOLLOWERS_BINS)\n",
    "\n",
    "    return BIN_NAMES[max(followers_bin, 2)] if verified else BIN_NAMES[followers_bin]"
   ],
   "metadata": {
    "collapsed": false
   }
  },
  {
   "cell_type": "code",
   "execution_count": 20,
   "outputs": [
    {
     "data": {
      "text/plain": "   cap_universal  followers_count  verified reputation\n0       0.760578          2628300      True       gold\n1       0.808228            47650     False     silver\n2       0.752712            35127     False     bronze\n3       0.743721            25007     False     bronze\n4       0.792437          1692856      True       gold",
      "text/html": "<div>\n<style scoped>\n    .dataframe tbody tr th:only-of-type {\n        vertical-align: middle;\n    }\n\n    .dataframe tbody tr th {\n        vertical-align: top;\n    }\n\n    .dataframe thead th {\n        text-align: right;\n    }\n</style>\n<table border=\"1\" class=\"dataframe\">\n  <thead>\n    <tr style=\"text-align: right;\">\n      <th></th>\n      <th>cap_universal</th>\n      <th>followers_count</th>\n      <th>verified</th>\n      <th>reputation</th>\n    </tr>\n  </thead>\n  <tbody>\n    <tr>\n      <th>0</th>\n      <td>0.760578</td>\n      <td>2628300</td>\n      <td>True</td>\n      <td>gold</td>\n    </tr>\n    <tr>\n      <th>1</th>\n      <td>0.808228</td>\n      <td>47650</td>\n      <td>False</td>\n      <td>silver</td>\n    </tr>\n    <tr>\n      <th>2</th>\n      <td>0.752712</td>\n      <td>35127</td>\n      <td>False</td>\n      <td>bronze</td>\n    </tr>\n    <tr>\n      <th>3</th>\n      <td>0.743721</td>\n      <td>25007</td>\n      <td>False</td>\n      <td>bronze</td>\n    </tr>\n    <tr>\n      <th>4</th>\n      <td>0.792437</td>\n      <td>1692856</td>\n      <td>True</td>\n      <td>gold</td>\n    </tr>\n  </tbody>\n</table>\n</div>"
     },
     "execution_count": 20,
     "metadata": {},
     "output_type": "execute_result"
    }
   ],
   "source": [
    "df['reputation'] = df.apply(lambda x: reputation(x['cap_universal'], x['followers_count'], x['verified']), axis=1)\n",
    "df.head()"
   ],
   "metadata": {
    "collapsed": false
   }
  },
  {
   "cell_type": "code",
   "execution_count": 21,
   "outputs": [
    {
     "data": {
      "text/plain": "unrated    811\nbronze      87\nsilver       8\ngold         2\nName: reputation, dtype: int64"
     },
     "execution_count": 21,
     "metadata": {},
     "output_type": "execute_result"
    }
   ],
   "source": [
    "df['reputation'].value_counts()"
   ],
   "metadata": {
    "collapsed": false
   }
  },
  {
   "cell_type": "code",
   "execution_count": 24,
   "outputs": [
    {
     "data": {
      "text/plain": "<Figure size 640x480 with 1 Axes>",
      "image/png": "[encoded data removed]"
     },
     "metadata": {},
     "output_type": "display_data"
    }
   ],
   "source": [
    "# draw bar chart of reputation column\n",
    "# display the count of each value at the top of each bar\n",
    "# don't show y-axis\n",
    "plt = df['reputation'].value_counts().plot.bar(title='Reputation')\n",
    "plt.axes.get_yaxis().set_visible(False)\n",
    "plt.bar_label(plt.containers[0])\n",
    "\n",
    "# hide frame\n",
    "plt.spines['top'].set_visible(False)\n",
    "plt.spines['right'].set_visible(False)\n",
    "plt.spines['bottom'].set_visible(False)\n",
    "plt.spines['left'].set_visible(False)\n",
    "\n",
    "# save plot\n",
    "plt.figure.savefig('../plots/reputation.png', bbox_inches='tight')"
   ],
   "metadata": {
    "collapsed": false
   }
  }
 ],
 "metadata": {
  "kernelspec": {
   "display_name": "Python 3",
   "language": "python",
   "name": "python3"
  },
  "language_info": {
   "codemirror_mode": {
    "name": "ipython",
    "version": 2
   },
   "file_extension": ".py",
   "mimetype": "text/x-python",
   "name": "python",
   "nbconvert_exporter": "python",
   "pygments_lexer": "ipython2",
   "version": "2.7.6"
  }
 },
 "nbformat": 4,
 "nbformat_minor": 0
}
