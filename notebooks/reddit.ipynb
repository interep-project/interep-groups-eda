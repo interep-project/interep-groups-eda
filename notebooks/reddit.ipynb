{
 "cells": [
  {
   "cell_type": "markdown",
   "source": [
    "# Reddit EDA\n",
    "## Data Source\n",
    "[Scrapped](https://github.com/interep-project/interep-groups-eda/blob/main/scrapers/src/Reddit.ts) from [Reddit API](https://www.reddit.com/dev/api)\n",
    "\n",
    "## Data Loading"
   ],
   "metadata": {
    "collapsed": false
   }
  },
  {
   "cell_type": "code",
   "execution_count": 1,
   "outputs": [],
   "source": [
    "import pandas as pd\n",
    "import json\n",
    "import matplotlib.pyplot as plt\n",
    "import numpy as np\n",
    "from datetime import date, datetime"
   ],
   "metadata": {
    "collapsed": false
   }
  },
  {
   "cell_type": "code",
   "execution_count": 2,
   "outputs": [],
   "source": [
    "with open('../data/reddit.json', 'r') as f:\n",
    "    data = json.load(f)\n",
    "\n",
    "df = pd.json_normalize(data.values())"
   ],
   "metadata": {
    "collapsed": false
   }
  },
  {
   "cell_type": "markdown",
   "source": [
    "## Data Exploration"
   ],
   "metadata": {
    "collapsed": false
   }
  },
  {
   "cell_type": "code",
   "execution_count": 3,
   "outputs": [
    {
     "data": {
      "text/plain": "       awardee_karma  awarder_karma    link_karma   total_karma       created  \\\ncount   1.013000e+03    1013.000000  1.012000e+03  1.013000e+03  1.012000e+03   \nmean    3.212185e+03     231.733465  2.091334e+04  3.919637e+04  1.562837e+09   \nstd     7.541773e+04    1443.583836  8.344989e+04  1.339781e+05  9.922702e+07   \nmin     0.000000e+00       0.000000  1.000000e+00 -1.300000e+01  1.203470e+09   \n25%     0.000000e+00       0.000000  2.015000e+02  7.050000e+02  1.515237e+09   \n50%     5.100000e+01       0.000000  1.531500e+03  4.275000e+03  1.594419e+09   \n75%     3.070000e+02      49.000000  7.947250e+03  2.057600e+04  1.640198e+09   \nmax     2.397455e+06   35793.000000  1.386273e+06  2.399455e+06  1.676005e+09   \n\n        created_utc  comment_karma  subreddit.user_is_contributor  \\\ncount  1.012000e+03    1012.000000                            0.0   \nmean   1.562837e+09   14874.437747                            NaN   \nstd    9.922702e+07   51242.779174                            NaN   \nmin    1.203470e+09    -100.000000                            NaN   \n25%    1.515237e+09     169.000000                            NaN   \n50%    1.594419e+09    1322.500000                            NaN   \n75%    1.640198e+09    7722.250000                            NaN   \nmax    1.676005e+09  747939.000000                            NaN   \n\n       subreddit.user_is_banned  subreddit.community_icon  \\\ncount                       0.0                       0.0   \nmean                        NaN                       NaN   \nstd                         NaN                       NaN   \nmin                         NaN                       NaN   \n25%                         NaN                       NaN   \n50%                         NaN                       NaN   \n75%                         NaN                       NaN   \nmax                         NaN                       NaN   \n\n       subreddit.user_is_muted  subreddit.header_size  subreddit.subscribers  \\\ncount                      0.0                    0.0                 1012.0   \nmean                       NaN                    NaN                    0.0   \nstd                        NaN                    NaN                    0.0   \nmin                        NaN                    NaN                    0.0   \n25%                        NaN                    NaN                    0.0   \n50%                        NaN                    NaN                    0.0   \n75%                        NaN                    NaN                    0.0   \nmax                        NaN                    NaN                    0.0   \n\n       subreddit.user_is_moderator  subreddit.user_is_subscriber  \ncount                          0.0                           0.0  \nmean                           NaN                           NaN  \nstd                            NaN                           NaN  \nmin                            NaN                           NaN  \n25%                            NaN                           NaN  \n50%                            NaN                           NaN  \n75%                            NaN                           NaN  \nmax                            NaN                           NaN  ",
      "text/html": "<div>\n<style scoped>\n    .dataframe tbody tr th:only-of-type {\n        vertical-align: middle;\n    }\n\n    .dataframe tbody tr th {\n        vertical-align: top;\n    }\n\n    .dataframe thead th {\n        text-align: right;\n    }\n</style>\n<table border=\"1\" class=\"dataframe\">\n  <thead>\n    <tr style=\"text-align: right;\">\n      <th></th>\n      <th>awardee_karma</th>\n      <th>awarder_karma</th>\n      <th>link_karma</th>\n      <th>total_karma</th>\n      <th>created</th>\n      <th>created_utc</th>\n      <th>comment_karma</th>\n      <th>subreddit.user_is_contributor</th>\n      <th>subreddit.user_is_banned</th>\n      <th>subreddit.community_icon</th>\n      <th>subreddit.user_is_muted</th>\n      <th>subreddit.header_size</th>\n      <th>subreddit.subscribers</th>\n      <th>subreddit.user_is_moderator</th>\n      <th>subreddit.user_is_subscriber</th>\n    </tr>\n  </thead>\n  <tbody>\n    <tr>\n      <th>count</th>\n      <td>1.013000e+03</td>\n      <td>1013.000000</td>\n      <td>1.012000e+03</td>\n      <td>1.013000e+03</td>\n      <td>1.012000e+03</td>\n      <td>1.012000e+03</td>\n      <td>1012.000000</td>\n      <td>0.0</td>\n      <td>0.0</td>\n      <td>0.0</td>\n      <td>0.0</td>\n      <td>0.0</td>\n      <td>1012.0</td>\n      <td>0.0</td>\n      <td>0.0</td>\n    </tr>\n    <tr>\n      <th>mean</th>\n      <td>3.212185e+03</td>\n      <td>231.733465</td>\n      <td>2.091334e+04</td>\n      <td>3.919637e+04</td>\n      <td>1.562837e+09</td>\n      <td>1.562837e+09</td>\n      <td>14874.437747</td>\n      <td>NaN</td>\n      <td>NaN</td>\n      <td>NaN</td>\n      <td>NaN</td>\n      <td>NaN</td>\n      <td>0.0</td>\n      <td>NaN</td>\n      <td>NaN</td>\n    </tr>\n    <tr>\n      <th>std</th>\n      <td>7.541773e+04</td>\n      <td>1443.583836</td>\n      <td>8.344989e+04</td>\n      <td>1.339781e+05</td>\n      <td>9.922702e+07</td>\n      <td>9.922702e+07</td>\n      <td>51242.779174</td>\n      <td>NaN</td>\n      <td>NaN</td>\n      <td>NaN</td>\n      <td>NaN</td>\n      <td>NaN</td>\n      <td>0.0</td>\n      <td>NaN</td>\n      <td>NaN</td>\n    </tr>\n    <tr>\n      <th>min</th>\n      <td>0.000000e+00</td>\n      <td>0.000000</td>\n      <td>1.000000e+00</td>\n      <td>-1.300000e+01</td>\n      <td>1.203470e+09</td>\n      <td>1.203470e+09</td>\n      <td>-100.000000</td>\n      <td>NaN</td>\n      <td>NaN</td>\n      <td>NaN</td>\n      <td>NaN</td>\n      <td>NaN</td>\n      <td>0.0</td>\n      <td>NaN</td>\n      <td>NaN</td>\n    </tr>\n    <tr>\n      <th>25%</th>\n      <td>0.000000e+00</td>\n      <td>0.000000</td>\n      <td>2.015000e+02</td>\n      <td>7.050000e+02</td>\n      <td>1.515237e+09</td>\n      <td>1.515237e+09</td>\n      <td>169.000000</td>\n      <td>NaN</td>\n      <td>NaN</td>\n      <td>NaN</td>\n      <td>NaN</td>\n      <td>NaN</td>\n      <td>0.0</td>\n      <td>NaN</td>\n      <td>NaN</td>\n    </tr>\n    <tr>\n      <th>50%</th>\n      <td>5.100000e+01</td>\n      <td>0.000000</td>\n      <td>1.531500e+03</td>\n      <td>4.275000e+03</td>\n      <td>1.594419e+09</td>\n      <td>1.594419e+09</td>\n      <td>1322.500000</td>\n      <td>NaN</td>\n      <td>NaN</td>\n      <td>NaN</td>\n      <td>NaN</td>\n      <td>NaN</td>\n      <td>0.0</td>\n      <td>NaN</td>\n      <td>NaN</td>\n    </tr>\n    <tr>\n      <th>75%</th>\n      <td>3.070000e+02</td>\n      <td>49.000000</td>\n      <td>7.947250e+03</td>\n      <td>2.057600e+04</td>\n      <td>1.640198e+09</td>\n      <td>1.640198e+09</td>\n      <td>7722.250000</td>\n      <td>NaN</td>\n      <td>NaN</td>\n      <td>NaN</td>\n      <td>NaN</td>\n      <td>NaN</td>\n      <td>0.0</td>\n      <td>NaN</td>\n      <td>NaN</td>\n    </tr>\n    <tr>\n      <th>max</th>\n      <td>2.397455e+06</td>\n      <td>35793.000000</td>\n      <td>1.386273e+06</td>\n      <td>2.399455e+06</td>\n      <td>1.676005e+09</td>\n      <td>1.676005e+09</td>\n      <td>747939.000000</td>\n      <td>NaN</td>\n      <td>NaN</td>\n      <td>NaN</td>\n      <td>NaN</td>\n      <td>NaN</td>\n      <td>0.0</td>\n      <td>NaN</td>\n      <td>NaN</td>\n    </tr>\n  </tbody>\n</table>\n</div>"
     },
     "execution_count": 3,
     "metadata": {},
     "output_type": "execute_result"
    }
   ],
   "source": [
    "df.describe()"
   ],
   "metadata": {
    "collapsed": false
   }
  },
  {
   "cell_type": "code",
   "execution_count": 4,
   "outputs": [
    {
     "data": {
      "text/plain": "  is_employee is_friend snoovatar_size  awardee_karma        id verified  \\\n0       False     False           None           4383     cx877     True   \n1       False     False     [380, 600]           5695     3ue2x     True   \n2       False     False           None            649  45k7t4n8     True   \n3       False     False     [380, 600]              0  157ivnmo     True   \n4       False     False           None             10  82srj06q     True   \n\n  is_gold is_mod  awarder_karma has_verified_email  ... subreddit.quarantine  \\\n0   False   True           3163               True  ...                False   \n1   False   True           1269               True  ...                False   \n2   False  False             27              False  ...                False   \n3   False   True              0               True  ...                False   \n4   False  False              0               True  ...                False   \n\n  subreddit.banner_size  subreddit.user_is_moderator  \\\n0           [1280, 384]                          NaN   \n1           [1280, 384]                          NaN   \n2                  None                          NaN   \n3                  None                          NaN   \n4                  None                          NaN   \n\n   subreddit.accept_followers  subreddit.public_description  \\\n0                        True                      BIZARRO!   \n1                        True                                 \n2                        True                                 \n3                        True                                 \n4                       False                                 \n\n  subreddit.link_flair_enabled subreddit.disable_contributor_requests  \\\n0                        False                                  False   \n1                        False                                  False   \n2                        False                                  False   \n3                        False                                  False   \n4                        False                                  False   \n\n   subreddit.subreddit_type  subreddit.user_is_subscriber is_suspended  \n0                      user                           NaN          NaN  \n1                      user                           NaN          NaN  \n2                      user                           NaN          NaN  \n3                      user                           NaN          NaN  \n4                      user                           NaN          NaN  \n\n[5 rows x 65 columns]",
      "text/html": "<div>\n<style scoped>\n    .dataframe tbody tr th:only-of-type {\n        vertical-align: middle;\n    }\n\n    .dataframe tbody tr th {\n        vertical-align: top;\n    }\n\n    .dataframe thead th {\n        text-align: right;\n    }\n</style>\n<table border=\"1\" class=\"dataframe\">\n  <thead>\n    <tr style=\"text-align: right;\">\n      <th></th>\n      <th>is_employee</th>\n      <th>is_friend</th>\n      <th>snoovatar_size</th>\n      <th>awardee_karma</th>\n      <th>id</th>\n      <th>verified</th>\n      <th>is_gold</th>\n      <th>is_mod</th>\n      <th>awarder_karma</th>\n      <th>has_verified_email</th>\n      <th>...</th>\n      <th>subreddit.quarantine</th>\n      <th>subreddit.banner_size</th>\n      <th>subreddit.user_is_moderator</th>\n      <th>subreddit.accept_followers</th>\n      <th>subreddit.public_description</th>\n      <th>subreddit.link_flair_enabled</th>\n      <th>subreddit.disable_contributor_requests</th>\n      <th>subreddit.subreddit_type</th>\n      <th>subreddit.user_is_subscriber</th>\n      <th>is_suspended</th>\n    </tr>\n  </thead>\n  <tbody>\n    <tr>\n      <th>0</th>\n      <td>False</td>\n      <td>False</td>\n      <td>None</td>\n      <td>4383</td>\n      <td>cx877</td>\n      <td>True</td>\n      <td>False</td>\n      <td>True</td>\n      <td>3163</td>\n      <td>True</td>\n      <td>...</td>\n      <td>False</td>\n      <td>[1280, 384]</td>\n      <td>NaN</td>\n      <td>True</td>\n      <td>BIZARRO!</td>\n      <td>False</td>\n      <td>False</td>\n      <td>user</td>\n      <td>NaN</td>\n      <td>NaN</td>\n    </tr>\n    <tr>\n      <th>1</th>\n      <td>False</td>\n      <td>False</td>\n      <td>[380, 600]</td>\n      <td>5695</td>\n      <td>3ue2x</td>\n      <td>True</td>\n      <td>False</td>\n      <td>True</td>\n      <td>1269</td>\n      <td>True</td>\n      <td>...</td>\n      <td>False</td>\n      <td>[1280, 384]</td>\n      <td>NaN</td>\n      <td>True</td>\n      <td></td>\n      <td>False</td>\n      <td>False</td>\n      <td>user</td>\n      <td>NaN</td>\n      <td>NaN</td>\n    </tr>\n    <tr>\n      <th>2</th>\n      <td>False</td>\n      <td>False</td>\n      <td>None</td>\n      <td>649</td>\n      <td>45k7t4n8</td>\n      <td>True</td>\n      <td>False</td>\n      <td>False</td>\n      <td>27</td>\n      <td>False</td>\n      <td>...</td>\n      <td>False</td>\n      <td>None</td>\n      <td>NaN</td>\n      <td>True</td>\n      <td></td>\n      <td>False</td>\n      <td>False</td>\n      <td>user</td>\n      <td>NaN</td>\n      <td>NaN</td>\n    </tr>\n    <tr>\n      <th>3</th>\n      <td>False</td>\n      <td>False</td>\n      <td>[380, 600]</td>\n      <td>0</td>\n      <td>157ivnmo</td>\n      <td>True</td>\n      <td>False</td>\n      <td>True</td>\n      <td>0</td>\n      <td>True</td>\n      <td>...</td>\n      <td>False</td>\n      <td>None</td>\n      <td>NaN</td>\n      <td>True</td>\n      <td></td>\n      <td>False</td>\n      <td>False</td>\n      <td>user</td>\n      <td>NaN</td>\n      <td>NaN</td>\n    </tr>\n    <tr>\n      <th>4</th>\n      <td>False</td>\n      <td>False</td>\n      <td>None</td>\n      <td>10</td>\n      <td>82srj06q</td>\n      <td>True</td>\n      <td>False</td>\n      <td>False</td>\n      <td>0</td>\n      <td>True</td>\n      <td>...</td>\n      <td>False</td>\n      <td>None</td>\n      <td>NaN</td>\n      <td>False</td>\n      <td></td>\n      <td>False</td>\n      <td>False</td>\n      <td>user</td>\n      <td>NaN</td>\n      <td>NaN</td>\n    </tr>\n  </tbody>\n</table>\n<p>5 rows × 65 columns</p>\n</div>"
     },
     "execution_count": 4,
     "metadata": {},
     "output_type": "execute_result"
    }
   ],
   "source": [
    "df.head()"
   ],
   "metadata": {
    "collapsed": false
   }
  },
  {
   "cell_type": "code",
   "execution_count": 5,
   "outputs": [
    {
     "data": {
      "text/plain": "Index(['is_employee', 'is_friend', 'snoovatar_size', 'awardee_karma', 'id',\n       'verified', 'is_gold', 'is_mod', 'awarder_karma', 'has_verified_email',\n       'icon_img', 'hide_from_robots', 'link_karma', 'is_blocked',\n       'total_karma', 'pref_show_snoovatar', 'name', 'created', 'created_utc',\n       'snoovatar_img', 'comment_karma', 'accept_followers', 'has_subscribed',\n       'subreddit.default_set', 'subreddit.user_is_contributor',\n       'subreddit.banner_img', 'subreddit.allowed_media_in_comments',\n       'subreddit.user_is_banned', 'subreddit.free_form_reports',\n       'subreddit.community_icon', 'subreddit.show_media',\n       'subreddit.icon_color', 'subreddit.user_is_muted',\n       'subreddit.display_name', 'subreddit.header_img', 'subreddit.title',\n       'subreddit.previous_names', 'subreddit.over_18', 'subreddit.icon_size',\n       'subreddit.primary_color', 'subreddit.icon_img',\n       'subreddit.description', 'subreddit.submit_link_label',\n       'subreddit.header_size', 'subreddit.restrict_posting',\n       'subreddit.restrict_commenting', 'subreddit.subscribers',\n       'subreddit.submit_text_label', 'subreddit.is_default_icon',\n       'subreddit.link_flair_position', 'subreddit.display_name_prefixed',\n       'subreddit.key_color', 'subreddit.name', 'subreddit.is_default_banner',\n       'subreddit.url', 'subreddit.quarantine', 'subreddit.banner_size',\n       'subreddit.user_is_moderator', 'subreddit.accept_followers',\n       'subreddit.public_description', 'subreddit.link_flair_enabled',\n       'subreddit.disable_contributor_requests', 'subreddit.subreddit_type',\n       'subreddit.user_is_subscriber', 'is_suspended'],\n      dtype='object')"
     },
     "execution_count": 5,
     "metadata": {},
     "output_type": "execute_result"
    }
   ],
   "source": [
    "df.columns"
   ],
   "metadata": {
    "collapsed": false
   }
  },
  {
   "cell_type": "code",
   "execution_count": 6,
   "outputs": [
    {
     "data": {
      "text/plain": "is_employee                                object\nis_friend                                  object\nsnoovatar_size                             object\nawardee_karma                               int64\nid                                         object\n                                           ...   \nsubreddit.link_flair_enabled               object\nsubreddit.disable_contributor_requests     object\nsubreddit.subreddit_type                   object\nsubreddit.user_is_subscriber              float64\nis_suspended                               object\nLength: 65, dtype: object"
     },
     "execution_count": 6,
     "metadata": {},
     "output_type": "execute_result"
    }
   ],
   "source": [
    "df.dtypes"
   ],
   "metadata": {
    "collapsed": false
   }
  },
  {
   "cell_type": "code",
   "execution_count": 7,
   "outputs": [
    {
     "data": {
      "text/plain": "verified              boolean\nis_employee           boolean\nis_gold               boolean\nis_mod                boolean\nhas_verified_email    boolean\nis_blocked            boolean\nhas_subscribed        boolean\ntotal_karma             Int64\ncreated_utc             Int64\ndtype: object"
     },
     "execution_count": 7,
     "metadata": {},
     "output_type": "execute_result"
    }
   ],
   "source": [
    "df = df.convert_dtypes()\n",
    "columns = ['verified', 'is_employee', 'is_gold', 'is_mod', 'has_verified_email', 'is_blocked', 'has_subscribed',\n",
    "           'total_karma', 'created_utc']\n",
    "df = df[columns]\n",
    "df.fillna(False, inplace=True)\n",
    "df.dtypes"
   ],
   "metadata": {
    "collapsed": false
   }
  },
  {
   "cell_type": "markdown",
   "source": [
    "## Data Exploration/Vizualization\n",
    "### Total Karma Distribution"
   ],
   "metadata": {
    "collapsed": false
   }
  },
  {
   "cell_type": "code",
   "execution_count": 8,
   "outputs": [
    {
     "data": {
      "text/plain": "<Figure size 640x480 with 1 Axes>",
      "image/png": "[encoded data removed]"
     },
     "metadata": {},
     "output_type": "display_data"
    }
   ],
   "source": [
    "ax = df['total_karma'].hist()\n",
    "ax.set_title('Total Karma Distribution histogram');"
   ],
   "metadata": {
    "collapsed": false
   }
  },
  {
   "cell_type": "code",
   "execution_count": 9,
   "outputs": [
    {
     "data": {
      "text/plain": "<Figure size 640x480 with 1 Axes>",
      "image/png": "[encoded data removed]"
     },
     "metadata": {},
     "output_type": "display_data"
    }
   ],
   "source": [
    "ax = df.boxplot(column=['total_karma'])\n",
    "ax.set_title('Total Karma Distribution boxplot');"
   ],
   "metadata": {
    "collapsed": false
   }
  },
  {
   "cell_type": "code",
   "execution_count": 10,
   "outputs": [
    {
     "data": {
      "text/plain": "0.600       7734\n0.900      80801\n0.950     173576\n0.990     556803\n0.999    1143433\nName: total_karma, dtype: Int64"
     },
     "execution_count": 10,
     "metadata": {},
     "output_type": "execute_result"
    }
   ],
   "source": [
    "df['total_karma'].quantile([0.6, 0.9, 0.95, 0.99, 0.999], interpolation='lower')"
   ],
   "metadata": {
    "collapsed": false
   }
  },
  {
   "cell_type": "code",
   "execution_count": 11,
   "outputs": [
    {
     "data": {
      "text/plain": "[0, 7734, 80801, 173576, 556803, 1143433]"
     },
     "execution_count": 11,
     "metadata": {},
     "output_type": "execute_result"
    }
   ],
   "source": [
    "[0] + df['total_karma'].quantile([0.6, 0.9, 0.95, 0.99, 0.999], interpolation='lower').tolist()"
   ],
   "metadata": {
    "collapsed": false
   }
  },
  {
   "cell_type": "code",
   "execution_count": 12,
   "outputs": [
    {
     "data": {
      "text/plain": "array([605, 303,  51,  40,  10])"
     },
     "execution_count": 12,
     "metadata": {},
     "output_type": "execute_result"
    }
   ],
   "source": [
    "count, division = np.histogram(df['total_karma'], bins=[0] + df['total_karma'].quantile([0.6, 0.9, 0.95, 0.99, 0.999],\n",
    "                                                                                        interpolation='lower').tolist())\n",
    "count"
   ],
   "metadata": {
    "collapsed": false
   }
  },
  {
   "cell_type": "markdown",
   "source": [
    "## 'verified', 'is_employee', 'is_gold', 'is_mod', 'has_verified_email', 'is_blocked', 'has_subscribed', 'total_karma'"
   ],
   "metadata": {
    "collapsed": false
   }
  },
  {
   "cell_type": "code",
   "execution_count": 13,
   "outputs": [
    {
     "data": {
      "text/plain": "<Figure size 640x480 with 1 Axes>",
      "image/png": "[encoded data removed]"
     },
     "metadata": {},
     "output_type": "display_data"
    }
   ],
   "source": [
    "labels = ['verified', 'is_employee', 'is_gold', 'is_mod', 'has_verified_email', 'is_blocked', 'has_subscribed']\n",
    "[trues, falses] = [[], []]\n",
    "\n",
    "for col in labels:\n",
    "    try:\n",
    "        t = df[col].value_counts(normalize=True)[True]\n",
    "        trues.append(t)\n",
    "    except:\n",
    "        trues.append(0)\n",
    "\n",
    "    try:\n",
    "        f = df[col].value_counts(normalize=True)[False]\n",
    "        falses.append(f)\n",
    "    except:\n",
    "        falses.append(0)\n",
    "\n",
    "[trues, falses] = [[round(t, 2) for t in trues], [round(f, 2) for f in falses]]\n",
    "\n",
    "width = 0.3\n",
    "fig, ax = plt.subplots()\n",
    "ax.bar(labels, trues, width, label='True')\n",
    "ax.bar(labels, falses, width, bottom=trues, label='False')\n",
    "\n",
    "ax.set_ylabel('%')\n",
    "ax.legend()\n",
    "plt.xticks([])\n",
    "plt.yticks([])\n",
    "table = plt.table(cellText=[trues, falses], rowLabels=['True', 'False'], colLabels=labels, loc='bottom')\n",
    "table.auto_set_font_size(False)\n",
    "table.set_fontsize(8)\n",
    "\n",
    "plt.show()"
   ],
   "metadata": {
    "collapsed": false
   }
  },
  {
   "cell_type": "code",
   "execution_count": 14,
   "outputs": [
    {
     "data": {
      "text/plain": "<Figure size 640x480 with 1 Axes>",
      "image/png": "[encoded data removed]"
     },
     "metadata": {},
     "output_type": "display_data"
    }
   ],
   "source": [
    "labels = ['is_gold', 'is_mod', 'has_verified_email']\n",
    "[trues, falses] = [[], []]\n",
    "\n",
    "for col in labels:\n",
    "    try:\n",
    "        t = df[col].value_counts(normalize=True)[True]\n",
    "        trues.append(t)\n",
    "    except:\n",
    "        trues.append(0)\n",
    "\n",
    "    try:\n",
    "        f = df[col].value_counts(normalize=True)[False]\n",
    "        falses.append(f)\n",
    "    except:\n",
    "        falses.append(0)\n",
    "\n",
    "[trues, falses] = [[round(t, 2) for t in trues], [round(f, 2) for f in falses]]\n",
    "\n",
    "width = 0.3\n",
    "fig, ax = plt.subplots()\n",
    "ax.bar(labels, trues, width, label='True')\n",
    "ax.bar(labels, falses, width, bottom=trues, label='False')\n",
    "\n",
    "ax.set_ylabel('%')\n",
    "ax.legend()\n",
    "plt.xticks([])\n",
    "plt.yticks([])\n",
    "table = plt.table(cellText=[trues, falses], rowLabels=['True', 'False'], colLabels=labels, loc='bottom')\n",
    "table.auto_set_font_size(False)\n",
    "table.set_fontsize(8)\n",
    "\n",
    "plt.show()"
   ],
   "metadata": {
    "collapsed": false
   }
  },
  {
   "cell_type": "markdown",
   "source": [
    "## Reputation Calculation Simulations"
   ],
   "metadata": {
    "collapsed": false
   }
  },
  {
   "cell_type": "markdown",
   "source": [
    "### 1: `total_karma` threshold + `is_gold`, `is_mod`, `has_verified_email`"
   ],
   "metadata": {
    "collapsed": false
   }
  },
  {
   "cell_type": "code",
   "execution_count": 15,
   "outputs": [],
   "source": [
    "from tiers import TIERS\n",
    "\n",
    "\n",
    "def get_followers_bin(x, bins):\n",
    "    for index, (m, M) in enumerate(bins):\n",
    "        if m <= x < M:\n",
    "            return index\n",
    "    return 4\n",
    "\n",
    "\n",
    "KARMA_BINS = [(0, 7734), (7734, 80801), (80801, 173576), (173576, 556803), (556803, df['total_karma'].max())]"
   ],
   "metadata": {
    "collapsed": false
   }
  },
  {
   "cell_type": "code",
   "execution_count": 16,
   "outputs": [
    {
     "data": {
      "text/plain": "<Figure size 640x480 with 1 Axes>",
      "image/png": "[encoded data removed]"
     },
     "metadata": {},
     "output_type": "display_data"
    }
   ],
   "source": [
    "def reputation(total_karma, is_gold, is_mod, has_verified_email):\n",
    "    followers_bin = get_followers_bin(total_karma, KARMA_BINS)\n",
    "    return TIERS[max(followers_bin, 2)] if is_gold or is_mod or has_verified_email else TIERS[followers_bin]\n",
    "\n",
    "\n",
    "df['reputation'] = df.apply(\n",
    "    lambda x: reputation(x['total_karma'], x['is_gold'], x['is_mod'], x['has_verified_email'])['name'], axis=1)\n",
    "\n",
    "# draw bar chart of reputation column\n",
    "# display the count of each value at the top of each bar\n",
    "# don't show y-axis\n",
    "plt = df['reputation'].value_counts().plot.bar(title='Reputation Algo 1')\n",
    "plt.axes.get_yaxis().set_visible(False)\n",
    "plt.bar_label(plt.containers[0])\n",
    "\n",
    "# hide frame\n",
    "plt.spines['top'].set_visible(False)\n",
    "plt.spines['right'].set_visible(False)\n",
    "plt.spines['bottom'].set_visible(False)\n",
    "plt.spines['left'].set_visible(False)\n",
    "\n",
    "# save plot\n",
    "plt.figure.savefig('../plots/reddit/reputation_sim1.png', bbox_inches='tight')"
   ],
   "metadata": {
    "collapsed": false
   }
  },
  {
   "cell_type": "markdown",
   "source": [
    "Distribution is totally wrong. Sequence should be commoner, up and coming, established, star, icon."
   ],
   "metadata": {
    "collapsed": false
   }
  },
  {
   "cell_type": "markdown",
   "source": [
    "### 2: `total_karma` threshold + `is_gold`, `is_mod`"
   ],
   "metadata": {
    "collapsed": false
   }
  },
  {
   "cell_type": "code",
   "execution_count": 17,
   "outputs": [
    {
     "data": {
      "text/plain": "<Figure size 640x480 with 1 Axes>",
      "image/png": "[encoded data removed]"
     },
     "metadata": {},
     "output_type": "display_data"
    }
   ],
   "source": [
    "def reputation2(total_karma, is_gold, is_mod):\n",
    "    followers_bin = get_followers_bin(total_karma, KARMA_BINS)\n",
    "    return TIERS[max(followers_bin, 2)] if is_gold or is_mod else TIERS[followers_bin]\n",
    "\n",
    "\n",
    "df['reputation'] = df.apply(lambda x: reputation2(x['total_karma'], x['is_gold'], x['is_mod'])['name'], axis=1)\n",
    "\n",
    "# draw bar chart of reputation column\n",
    "# display the count of each value at the top of each bar\n",
    "# don't show y-axis\n",
    "plt = df['reputation'].value_counts().plot.bar(title='Reputation Algo 2')\n",
    "plt.axes.get_yaxis().set_visible(False)\n",
    "plt.bar_label(plt.containers[0])\n",
    "\n",
    "# hide frame\n",
    "plt.spines['top'].set_visible(False)\n",
    "plt.spines['right'].set_visible(False)\n",
    "plt.spines['bottom'].set_visible(False)\n",
    "plt.spines['left'].set_visible(False)\n",
    "\n",
    "# save plot\n",
    "plt.figure.savefig('../plots/reddit/reputation_sim2.png', bbox_inches='tight')"
   ],
   "metadata": {
    "collapsed": false
   }
  },
  {
   "cell_type": "markdown",
   "source": [
    "Sequence is still not correct. There should be more up and coming than established => Not a suitable reputation algorithm."
   ],
   "metadata": {
    "collapsed": false
   }
  },
  {
   "cell_type": "markdown",
   "source": [
    "### 3: `total_karma` thresholds + `is_gold`"
   ],
   "metadata": {
    "collapsed": false
   }
  },
  {
   "cell_type": "code",
   "execution_count": 18,
   "outputs": [
    {
     "ename": "ValueError",
     "evalue": "too many values to unpack (expected 2)",
     "output_type": "error",
     "traceback": [
      "\u001B[0;31m---------------------------------------------------------------------------\u001B[0m",
      "\u001B[0;31mValueError\u001B[0m                                Traceback (most recent call last)",
      "Cell \u001B[0;32mIn[18], line 26\u001B[0m\n\u001B[1;32m     23\u001B[0m fig2\u001B[38;5;241m.\u001B[39msuptitle(\u001B[38;5;124m'\u001B[39m\u001B[38;5;124mReputation Tiers Distributions\u001B[39m\u001B[38;5;124m'\u001B[39m, fontsize\u001B[38;5;241m=\u001B[39m\u001B[38;5;241m16\u001B[39m, y\u001B[38;5;241m=\u001B[39m\u001B[38;5;241m3.6\u001B[39m)\n\u001B[1;32m     25\u001B[0m \u001B[38;5;28;01mfor\u001B[39;00m i \u001B[38;5;129;01min\u001B[39;00m \u001B[38;5;28mrange\u001B[39m(\u001B[38;5;28mlen\u001B[39m(BINS)):\n\u001B[0;32m---> 26\u001B[0m     df[\u001B[38;5;124mf\u001B[39m\u001B[38;5;124m'\u001B[39m\u001B[38;5;124mreputation\u001B[39m\u001B[38;5;132;01m{\u001B[39;00mi\u001B[38;5;132;01m}\u001B[39;00m\u001B[38;5;124m'\u001B[39m] \u001B[38;5;241m=\u001B[39m \u001B[43mdf\u001B[49m\u001B[38;5;241;43m.\u001B[39;49m\u001B[43mapply\u001B[49m\u001B[43m(\u001B[49m\u001B[38;5;28;43;01mlambda\u001B[39;49;00m\u001B[43m \u001B[49m\u001B[43mx\u001B[49m\u001B[43m:\u001B[49m\u001B[43m \u001B[49m\u001B[43mreputation_func\u001B[49m\u001B[43m(\u001B[49m\u001B[43mi\u001B[49m\u001B[43m)\u001B[49m\u001B[43m(\u001B[49m\u001B[43mx\u001B[49m\u001B[43m[\u001B[49m\u001B[38;5;124;43m'\u001B[39;49m\u001B[38;5;124;43mtotal_karma\u001B[39;49m\u001B[38;5;124;43m'\u001B[39;49m\u001B[43m]\u001B[49m\u001B[43m,\u001B[49m\u001B[43m \u001B[49m\u001B[43mx\u001B[49m\u001B[43m[\u001B[49m\u001B[38;5;124;43m'\u001B[39;49m\u001B[38;5;124;43mis_gold\u001B[39;49m\u001B[38;5;124;43m'\u001B[39;49m\u001B[43m]\u001B[49m\u001B[43m)\u001B[49m\u001B[43m[\u001B[49m\u001B[38;5;124;43m'\u001B[39;49m\u001B[38;5;124;43mname\u001B[39;49m\u001B[38;5;124;43m'\u001B[39;49m\u001B[43m]\u001B[49m\u001B[43m,\u001B[49m\u001B[43m \u001B[49m\u001B[43maxis\u001B[49m\u001B[38;5;241;43m=\u001B[39;49m\u001B[38;5;241;43m1\u001B[39;49m\u001B[43m)\u001B[49m\n\u001B[1;32m     27\u001B[0m     ax \u001B[38;5;241m=\u001B[39m fig2\u001B[38;5;241m.\u001B[39madd_subplot(\u001B[38;5;241m5\u001B[39m, \u001B[38;5;241m1\u001B[39m, i \u001B[38;5;241m+\u001B[39m \u001B[38;5;241m1\u001B[39m)\n\u001B[1;32m     28\u001B[0m     ax\u001B[38;5;241m.\u001B[39mset_title(\u001B[38;5;124mf\u001B[39m\u001B[38;5;124m'\u001B[39m\u001B[38;5;124mis_gold grants \u001B[39m\u001B[38;5;132;01m{\u001B[39;00mTIERS[IS_GOLD_GRANTS[i]][\u001B[38;5;124m\"\u001B[39m\u001B[38;5;124mname\u001B[39m\u001B[38;5;124m\"\u001B[39m]\u001B[38;5;132;01m}\u001B[39;00m\u001B[38;5;130;01m\\n\u001B[39;00m\u001B[38;5;124m total_karma_bins=\u001B[39m\u001B[38;5;132;01m{\u001B[39;00mBINS[i][:\u001B[38;5;241m-\u001B[39m\u001B[38;5;241m1\u001B[39m]\u001B[38;5;250m \u001B[39m\u001B[38;5;241m+\u001B[39m\u001B[38;5;250m \u001B[39m[\u001B[38;5;124m\"\u001B[39m\u001B[38;5;124mhigher\u001B[39m\u001B[38;5;124m\"\u001B[39m]\u001B[38;5;132;01m}\u001B[39;00m\u001B[38;5;124m'\u001B[39m, y\u001B[38;5;241m=\u001B[39m\u001B[38;5;241m1.3\u001B[39m)\n",
      "File \u001B[0;32m~/.pyenvs/ig-eda/lib/python3.10/site-packages/pandas/core/frame.py:8740\u001B[0m, in \u001B[0;36mDataFrame.apply\u001B[0;34m(self, func, axis, raw, result_type, args, **kwargs)\u001B[0m\n\u001B[1;32m   8729\u001B[0m \u001B[38;5;28;01mfrom\u001B[39;00m \u001B[38;5;21;01mpandas\u001B[39;00m\u001B[38;5;21;01m.\u001B[39;00m\u001B[38;5;21;01mcore\u001B[39;00m\u001B[38;5;21;01m.\u001B[39;00m\u001B[38;5;21;01mapply\u001B[39;00m \u001B[38;5;28;01mimport\u001B[39;00m frame_apply\n\u001B[1;32m   8731\u001B[0m op \u001B[38;5;241m=\u001B[39m frame_apply(\n\u001B[1;32m   8732\u001B[0m     \u001B[38;5;28mself\u001B[39m,\n\u001B[1;32m   8733\u001B[0m     func\u001B[38;5;241m=\u001B[39mfunc,\n\u001B[0;32m   (...)\u001B[0m\n\u001B[1;32m   8738\u001B[0m     kwargs\u001B[38;5;241m=\u001B[39mkwargs,\n\u001B[1;32m   8739\u001B[0m )\n\u001B[0;32m-> 8740\u001B[0m \u001B[38;5;28;01mreturn\u001B[39;00m \u001B[43mop\u001B[49m\u001B[38;5;241;43m.\u001B[39;49m\u001B[43mapply\u001B[49m\u001B[43m(\u001B[49m\u001B[43m)\u001B[49m\n",
      "File \u001B[0;32m~/.pyenvs/ig-eda/lib/python3.10/site-packages/pandas/core/apply.py:688\u001B[0m, in \u001B[0;36mFrameApply.apply\u001B[0;34m(self)\u001B[0m\n\u001B[1;32m    685\u001B[0m \u001B[38;5;28;01melif\u001B[39;00m \u001B[38;5;28mself\u001B[39m\u001B[38;5;241m.\u001B[39mraw:\n\u001B[1;32m    686\u001B[0m     \u001B[38;5;28;01mreturn\u001B[39;00m \u001B[38;5;28mself\u001B[39m\u001B[38;5;241m.\u001B[39mapply_raw()\n\u001B[0;32m--> 688\u001B[0m \u001B[38;5;28;01mreturn\u001B[39;00m \u001B[38;5;28;43mself\u001B[39;49m\u001B[38;5;241;43m.\u001B[39;49m\u001B[43mapply_standard\u001B[49m\u001B[43m(\u001B[49m\u001B[43m)\u001B[49m\n",
      "File \u001B[0;32m~/.pyenvs/ig-eda/lib/python3.10/site-packages/pandas/core/apply.py:812\u001B[0m, in \u001B[0;36mFrameApply.apply_standard\u001B[0;34m(self)\u001B[0m\n\u001B[1;32m    811\u001B[0m \u001B[38;5;28;01mdef\u001B[39;00m \u001B[38;5;21mapply_standard\u001B[39m(\u001B[38;5;28mself\u001B[39m):\n\u001B[0;32m--> 812\u001B[0m     results, res_index \u001B[38;5;241m=\u001B[39m \u001B[38;5;28;43mself\u001B[39;49m\u001B[38;5;241;43m.\u001B[39;49m\u001B[43mapply_series_generator\u001B[49m\u001B[43m(\u001B[49m\u001B[43m)\u001B[49m\n\u001B[1;32m    814\u001B[0m     \u001B[38;5;66;03m# wrap results\u001B[39;00m\n\u001B[1;32m    815\u001B[0m     \u001B[38;5;28;01mreturn\u001B[39;00m \u001B[38;5;28mself\u001B[39m\u001B[38;5;241m.\u001B[39mwrap_results(results, res_index)\n",
      "File \u001B[0;32m~/.pyenvs/ig-eda/lib/python3.10/site-packages/pandas/core/apply.py:828\u001B[0m, in \u001B[0;36mFrameApply.apply_series_generator\u001B[0;34m(self)\u001B[0m\n\u001B[1;32m    825\u001B[0m \u001B[38;5;28;01mwith\u001B[39;00m option_context(\u001B[38;5;124m\"\u001B[39m\u001B[38;5;124mmode.chained_assignment\u001B[39m\u001B[38;5;124m\"\u001B[39m, \u001B[38;5;28;01mNone\u001B[39;00m):\n\u001B[1;32m    826\u001B[0m     \u001B[38;5;28;01mfor\u001B[39;00m i, v \u001B[38;5;129;01min\u001B[39;00m \u001B[38;5;28menumerate\u001B[39m(series_gen):\n\u001B[1;32m    827\u001B[0m         \u001B[38;5;66;03m# ignore SettingWithCopy here in case the user mutates\u001B[39;00m\n\u001B[0;32m--> 828\u001B[0m         results[i] \u001B[38;5;241m=\u001B[39m \u001B[38;5;28;43mself\u001B[39;49m\u001B[38;5;241;43m.\u001B[39;49m\u001B[43mf\u001B[49m\u001B[43m(\u001B[49m\u001B[43mv\u001B[49m\u001B[43m)\u001B[49m\n\u001B[1;32m    829\u001B[0m         \u001B[38;5;28;01mif\u001B[39;00m \u001B[38;5;28misinstance\u001B[39m(results[i], ABCSeries):\n\u001B[1;32m    830\u001B[0m             \u001B[38;5;66;03m# If we have a view on v, we need to make a copy because\u001B[39;00m\n\u001B[1;32m    831\u001B[0m             \u001B[38;5;66;03m#  series_generator will swap out the underlying data\u001B[39;00m\n\u001B[1;32m    832\u001B[0m             results[i] \u001B[38;5;241m=\u001B[39m results[i]\u001B[38;5;241m.\u001B[39mcopy(deep\u001B[38;5;241m=\u001B[39m\u001B[38;5;28;01mFalse\u001B[39;00m)\n",
      "Cell \u001B[0;32mIn[18], line 26\u001B[0m, in \u001B[0;36m<lambda>\u001B[0;34m(x)\u001B[0m\n\u001B[1;32m     23\u001B[0m fig2\u001B[38;5;241m.\u001B[39msuptitle(\u001B[38;5;124m'\u001B[39m\u001B[38;5;124mReputation Tiers Distributions\u001B[39m\u001B[38;5;124m'\u001B[39m, fontsize\u001B[38;5;241m=\u001B[39m\u001B[38;5;241m16\u001B[39m, y\u001B[38;5;241m=\u001B[39m\u001B[38;5;241m3.6\u001B[39m)\n\u001B[1;32m     25\u001B[0m \u001B[38;5;28;01mfor\u001B[39;00m i \u001B[38;5;129;01min\u001B[39;00m \u001B[38;5;28mrange\u001B[39m(\u001B[38;5;28mlen\u001B[39m(BINS)):\n\u001B[0;32m---> 26\u001B[0m     df[\u001B[38;5;124mf\u001B[39m\u001B[38;5;124m'\u001B[39m\u001B[38;5;124mreputation\u001B[39m\u001B[38;5;132;01m{\u001B[39;00mi\u001B[38;5;132;01m}\u001B[39;00m\u001B[38;5;124m'\u001B[39m] \u001B[38;5;241m=\u001B[39m df\u001B[38;5;241m.\u001B[39mapply(\u001B[38;5;28;01mlambda\u001B[39;00m x: \u001B[43mreputation_func\u001B[49m\u001B[43m(\u001B[49m\u001B[43mi\u001B[49m\u001B[43m)\u001B[49m\u001B[43m(\u001B[49m\u001B[43mx\u001B[49m\u001B[43m[\u001B[49m\u001B[38;5;124;43m'\u001B[39;49m\u001B[38;5;124;43mtotal_karma\u001B[39;49m\u001B[38;5;124;43m'\u001B[39;49m\u001B[43m]\u001B[49m\u001B[43m,\u001B[49m\u001B[43m \u001B[49m\u001B[43mx\u001B[49m\u001B[43m[\u001B[49m\u001B[38;5;124;43m'\u001B[39;49m\u001B[38;5;124;43mis_gold\u001B[39;49m\u001B[38;5;124;43m'\u001B[39;49m\u001B[43m]\u001B[49m\u001B[43m)\u001B[49m[\u001B[38;5;124m'\u001B[39m\u001B[38;5;124mname\u001B[39m\u001B[38;5;124m'\u001B[39m], axis\u001B[38;5;241m=\u001B[39m\u001B[38;5;241m1\u001B[39m)\n\u001B[1;32m     27\u001B[0m     ax \u001B[38;5;241m=\u001B[39m fig2\u001B[38;5;241m.\u001B[39madd_subplot(\u001B[38;5;241m5\u001B[39m, \u001B[38;5;241m1\u001B[39m, i \u001B[38;5;241m+\u001B[39m \u001B[38;5;241m1\u001B[39m)\n\u001B[1;32m     28\u001B[0m     ax\u001B[38;5;241m.\u001B[39mset_title(\u001B[38;5;124mf\u001B[39m\u001B[38;5;124m'\u001B[39m\u001B[38;5;124mis_gold grants \u001B[39m\u001B[38;5;132;01m{\u001B[39;00mTIERS[IS_GOLD_GRANTS[i]][\u001B[38;5;124m\"\u001B[39m\u001B[38;5;124mname\u001B[39m\u001B[38;5;124m\"\u001B[39m]\u001B[38;5;132;01m}\u001B[39;00m\u001B[38;5;130;01m\\n\u001B[39;00m\u001B[38;5;124m total_karma_bins=\u001B[39m\u001B[38;5;132;01m{\u001B[39;00mBINS[i][:\u001B[38;5;241m-\u001B[39m\u001B[38;5;241m1\u001B[39m]\u001B[38;5;250m \u001B[39m\u001B[38;5;241m+\u001B[39m\u001B[38;5;250m \u001B[39m[\u001B[38;5;124m\"\u001B[39m\u001B[38;5;124mhigher\u001B[39m\u001B[38;5;124m\"\u001B[39m]\u001B[38;5;132;01m}\u001B[39;00m\u001B[38;5;124m'\u001B[39m, y\u001B[38;5;241m=\u001B[39m\u001B[38;5;241m1.3\u001B[39m)\n",
      "Cell \u001B[0;32mIn[18], line 17\u001B[0m, in \u001B[0;36mreputation_func.<locals>.rep_func\u001B[0;34m(total_karma, is_gold)\u001B[0m\n\u001B[1;32m     16\u001B[0m \u001B[38;5;28;01mdef\u001B[39;00m \u001B[38;5;21mrep_func\u001B[39m(total_karma, is_gold):\n\u001B[0;32m---> 17\u001B[0m     followers_bin \u001B[38;5;241m=\u001B[39m \u001B[43mget_followers_bin\u001B[49m\u001B[43m(\u001B[49m\u001B[43mtotal_karma\u001B[49m\u001B[43m,\u001B[49m\u001B[43m \u001B[49m\u001B[43mBINS\u001B[49m\u001B[43m)\u001B[49m\n\u001B[1;32m     18\u001B[0m     \u001B[38;5;28;01mreturn\u001B[39;00m TIERS[\u001B[38;5;28mmax\u001B[39m(followers_bin, IS_GOLD_GRANTS[n])] \u001B[38;5;28;01mif\u001B[39;00m is_gold \u001B[38;5;28;01melse\u001B[39;00m TIERS[followers_bin]\n",
      "Cell \u001B[0;32mIn[15], line 5\u001B[0m, in \u001B[0;36mget_followers_bin\u001B[0;34m(x, bins)\u001B[0m\n\u001B[1;32m      4\u001B[0m \u001B[38;5;28;01mdef\u001B[39;00m \u001B[38;5;21mget_followers_bin\u001B[39m(x, bins):\n\u001B[0;32m----> 5\u001B[0m     \u001B[38;5;28;01mfor\u001B[39;00m index, (m, M) \u001B[38;5;129;01min\u001B[39;00m \u001B[38;5;28menumerate\u001B[39m(bins):\n\u001B[1;32m      6\u001B[0m         \u001B[38;5;28;01mif\u001B[39;00m m \u001B[38;5;241m<\u001B[39m\u001B[38;5;241m=\u001B[39m x \u001B[38;5;241m<\u001B[39m M:\n\u001B[1;32m      7\u001B[0m             \u001B[38;5;28;01mreturn\u001B[39;00m index\n",
      "\u001B[0;31mValueError\u001B[0m: too many values to unpack (expected 2)"
     ]
    },
    {
     "data": {
      "text/plain": "<Figure size 640x480 with 0 Axes>"
     },
     "metadata": {},
     "output_type": "display_data"
    }
   ],
   "source": [
    "import matplotlib.pyplot as plt\n",
    "\n",
    "BINS = [[(0, 7734), (7734, 80801), (80801, 173576), (173576, 556803), (556803, df['total_karma'].max())],\n",
    "        [(0, 10000), (10000, 100000), (100000, 200000), (200000, 600000), (600000, df['total_karma'].max())],\n",
    "        [(0, 1000), (1000, 10000), (10000, 100000), (100000, 200000),\n",
    "         (200000, df['total_karma'].max())],\n",
    "        [(0, 2000), (2000, 20000), (20000, 100000), (100000, 200000),\n",
    "         (200000, df['total_karma'].max())],\n",
    "        [(0, 10000), (10000, 50000), (50000, 200000), (200000, 600000),\n",
    "         (200000, df['total_karma'].max())]\n",
    "        ]\n",
    "\n",
    "IS_GOLD_GRANTS = [2, 1, 1, 1, 1]\n",
    "\n",
    "def reputation_func(n):\n",
    "    def rep_func(total_karma, is_gold):\n",
    "        followers_bin = get_followers_bin(total_karma, BINS)\n",
    "        return TIERS[max(followers_bin, IS_GOLD_GRANTS[n])] if is_gold else TIERS[followers_bin]\n",
    "\n",
    "    return rep_func\n",
    "\n",
    "fig2 = plt.figure()\n",
    "fig2.suptitle('Reputation Tiers Distributions', fontsize=16, y=3.6)\n",
    "\n",
    "for i in range(len(BINS)):\n",
    "    df[f'reputation{i}'] = df.apply(lambda x: reputation_func(i)(x['total_karma'], x['is_gold'])['name'], axis=1)\n",
    "    ax = fig2.add_subplot(5, 1, i + 1)\n",
    "    ax.set_title(f'is_gold grants {TIERS[IS_GOLD_GRANTS[i]][\"name\"]}\\n total_karma_bins={BINS[i][:-1] + [\"higher\"]}', y=1.3)\n",
    "    ax.axes.get_yaxis().set_visible(False)\n",
    "    ax.bar_label(df[f'reputation{i}'].value_counts().plot.bar(ax=ax).containers[0])\n",
    "    ax.spines['top'].set_visible(False)\n",
    "    ax.spines['right'].set_visible(False)\n",
    "    ax.spines['bottom'].set_visible(False)\n",
    "    ax.spines['left'].set_visible(False)\n",
    "    ax.tick_params(left = False, right = False , labelleft = False, bottom = False)\n",
    "\n",
    "plt.subplots_adjust(top=3.3, bottom=1, hspace=3.5)\n",
    "plt.show()\n",
    "fig2.savefig('../plots/reddit/reputation_sims.png', bbox_inches='tight')"
   ],
   "metadata": {
    "collapsed": false
   }
  },
  {
   "cell_type": "markdown",
   "source": [
    "### 4: `total_karma` threshold + `is_mod`"
   ],
   "metadata": {
    "collapsed": false
   }
  },
  {
   "cell_type": "code",
   "execution_count": null,
   "outputs": [],
   "source": [
    "def reputation4(total_karma, is_mod):\n",
    "    followers_bin = get_followers_bin(total_karma, KARMA_BINS)\n",
    "    return TIERS[max(followers_bin, 2)] if is_mod else TIERS[followers_bin]\n",
    "\n",
    "\n",
    "df['reputation'] = df.apply(lambda x: reputation4(x['total_karma'], x['is_mod'])['name'], axis=1)\n",
    "\n",
    "# draw bar chart of reputation column\n",
    "# display the count of each value at the top of each bar\n",
    "# don't show y-axis\n",
    "plt = df['reputation'].value_counts().plot.bar(title='Reputation Algo 4')\n",
    "plt.axes.get_yaxis().set_visible(False)\n",
    "plt.bar_label(plt.containers[0])\n",
    "\n",
    "# hide frame\n",
    "plt.spines['top'].set_visible(False)\n",
    "plt.spines['right'].set_visible(False)\n",
    "plt.spines['bottom'].set_visible(False)\n",
    "plt.spines['left'].set_visible(False)\n",
    "\n",
    "# save plot\n",
    "plt.figure.savefig('../plots/reddit/reputation_sim4.png', bbox_inches='tight')"
   ],
   "metadata": {
    "collapsed": false
   }
  },
  {
   "cell_type": "markdown",
   "source": [
    "Sequence is still not correct. There should be more up and coming than established => Not a suitable reputation algorithm."
   ],
   "metadata": {
    "collapsed": false
   }
  },
  {
   "cell_type": "markdown",
   "source": [
    "### 5: Point system\n",
    "\n",
    "> 2 pt per year account age,\n",
    "5 pts if gold,\n",
    "3 pts for moderation,\n",
    "1 pt for >10k karma\n",
    "2 pts for >50k karma,\n",
    "3 pts for >100k karma"
   ],
   "metadata": {
    "collapsed": false
   }
  },
  {
   "cell_type": "code",
   "execution_count": null,
   "outputs": [],
   "source": [
    "def age_points(timestamp):\n",
    "    return 2 * (datetime.now().year - date.fromtimestamp(timestamp).year)\n",
    "\n",
    "\n",
    "def karma_points(total_karma):\n",
    "    if total_karma > 200000:\n",
    "        return 3\n",
    "    elif total_karma > 50000:\n",
    "        return 2\n",
    "    elif total_karma > 10000:\n",
    "        return 1\n",
    "    else:\n",
    "        return 0\n",
    "\n",
    "\n",
    "def gold_points(is_gold):\n",
    "    return 5 if is_gold else 0\n",
    "\n",
    "\n",
    "def mod_points(is_mod):\n",
    "    return 3 if is_mod else 0\n",
    "\n",
    "\n",
    "def points(created_utc, is_gold, is_mod, total_karma):\n",
    "    return age_points(created_utc) + karma_points(total_karma) + gold_points(is_gold) + mod_points(is_mod)\n",
    "\n",
    "\n",
    "df['points'] = df.apply(lambda x: points(x['created_utc'], x['is_gold'], x['is_mod'], x['total_karma']), axis=1)\n",
    "\n",
    "df['points'].plot.hist(title='Points', bins=20);"
   ],
   "metadata": {
    "collapsed": false
   }
  },
  {
   "cell_type": "code",
   "execution_count": null,
   "outputs": [],
   "source": [
    "df['points'].plot.hist(title='Points', bins=5);"
   ],
   "metadata": {
    "collapsed": false
   }
  },
  {
   "cell_type": "code",
   "execution_count": null,
   "outputs": [],
   "source": [
    "df['points'].quantile([0.2, 0.6, 0.9, 0.95, 0.99, 0.999], interpolation='lower')"
   ],
   "metadata": {
    "collapsed": false
   }
  },
  {
   "cell_type": "code",
   "execution_count": null,
   "outputs": [],
   "source": [
    "df['points'].plot.hist(title='Points', bins=[0, 10, 17, 25, 30, df['points'].max()]);"
   ],
   "metadata": {
    "collapsed": false
   }
  },
  {
   "cell_type": "code",
   "execution_count": null,
   "outputs": [],
   "source": [
    "import numpy as np\n",
    "\n",
    "count, division = np.histogram(df['points'], bins=[0, 10, 17, 25, 31, df['points'].max()])\n",
    "count"
   ],
   "metadata": {
    "collapsed": false
   }
  },
  {
   "cell_type": "code",
   "execution_count": null,
   "outputs": [],
   "source": [
    "plt = df['points'].value_counts().plot.bar(title='Points bar plot', width=0.5, figsize=(10, 5))\n",
    "plt.axes.get_yaxis().set_visible(False)\n",
    "plt.bar_label(plt.containers[0])\n",
    "\n",
    "# hide frame\n",
    "plt.spines['top'].set_visible(False)\n",
    "plt.spines['right'].set_visible(False)\n",
    "plt.spines['bottom'].set_visible(False)\n",
    "plt.spines['left'].set_visible(False)"
   ],
   "metadata": {
    "collapsed": false
   }
  },
  {
   "cell_type": "code",
   "execution_count": null,
   "outputs": [],
   "source": [
    "def reputation_points(points):\n",
    "    if points < 10:\n",
    "        return TIERS[0]\n",
    "    elif points < 17:\n",
    "        return TIERS[1]\n",
    "    elif points < 25:\n",
    "        return TIERS[2]\n",
    "    elif points < 31:\n",
    "        return TIERS[3]\n",
    "    else:\n",
    "        return TIERS[4]\n",
    "\n",
    "\n",
    "df['reputation'] = df.apply(lambda x: reputation_points(x['points'])['name'], axis=1)\n",
    "\n",
    "plt = df['reputation'].value_counts().plot.bar(title='Reputation Points Algo')\n",
    "plt.axes.get_yaxis().set_visible(False)\n",
    "plt.bar_label(plt.containers[0])\n",
    "plt.spines['top'].set_visible(False)\n",
    "plt.spines['right'].set_visible(False)\n",
    "plt.spines['bottom'].set_visible(False)\n",
    "plt.spines['left'].set_visible(False)\n",
    "\n",
    "# save plot\n",
    "plt.figure.savefig('../plots/reddit/reputation_sim_points.png', bbox_inches='tight')"
   ],
   "metadata": {
    "collapsed": false
   }
  },
  {
   "cell_type": "markdown",
   "source": [
    "## Conclusion\n",
    "- Quantitative treshold: `total_karma`\n",
    "\n",
    "|  | total\\_karma |\n",
    "| :--- | :--- |\n",
    "| 0.600 | 7734 |\n",
    "| 0.900 | 80801 |\n",
    "| 0.950 | 173576 |\n",
    "| 0.990 | 556803 |\n",
    "| 0.999 | 1143433 |\n",
    "\n",
    "- Boolean thresholds:\n",
    "  - exclude `verified` and `has_subscribed`, `is_blocked`, `is_employee`\n",
    "  - use `is_gold`, `is_mod`, `has_verified_email` (clarify signification first)"
   ],
   "metadata": {
    "collapsed": false
   }
  }
 ],
 "metadata": {
  "kernelspec": {
   "display_name": "Python 3",
   "language": "python",
   "name": "python3"
  },
  "language_info": {
   "codemirror_mode": {
    "name": "ipython",
    "version": 2
   },
   "file_extension": ".py",
   "mimetype": "text/x-python",
   "name": "python",
   "nbconvert_exporter": "python",
   "pygments_lexer": "ipython2",
   "version": "2.7.6"
  }
 },
 "nbformat": 4,
 "nbformat_minor": 0
}
